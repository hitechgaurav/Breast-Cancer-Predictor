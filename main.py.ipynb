{
 "cells": [
  {
   "cell_type": "code",
   "execution_count": 1,
   "metadata": {},
   "outputs": [],
   "source": [
    "import numpy as np\n",
    "import pandas as pd\n",
    "import matplotlib.pyplot as pt\n",
    "import seaborn as sns"
   ]
  },
  {
   "cell_type": "code",
   "execution_count": 2,
   "metadata": {},
   "outputs": [],
   "source": [
    "data = pd.read_csv('BC.csv')"
   ]
  },
  {
   "cell_type": "code",
   "execution_count": 3,
   "metadata": {},
   "outputs": [
    {
     "data": {
      "text/html": [
       "<div>\n",
       "<style scoped>\n",
       "    .dataframe tbody tr th:only-of-type {\n",
       "        vertical-align: middle;\n",
       "    }\n",
       "\n",
       "    .dataframe tbody tr th {\n",
       "        vertical-align: top;\n",
       "    }\n",
       "\n",
       "    .dataframe thead th {\n",
       "        text-align: right;\n",
       "    }\n",
       "</style>\n",
       "<table border=\"1\" class=\"dataframe\">\n",
       "  <thead>\n",
       "    <tr style=\"text-align: right;\">\n",
       "      <th></th>\n",
       "      <th>id</th>\n",
       "      <th>diagnosis</th>\n",
       "      <th>radius_mean</th>\n",
       "      <th>texture_mean</th>\n",
       "      <th>perimeter_mean</th>\n",
       "      <th>area_mean</th>\n",
       "      <th>smoothness_mean</th>\n",
       "      <th>compactness_mean</th>\n",
       "      <th>concavity_mean</th>\n",
       "      <th>concave points_mean</th>\n",
       "      <th>...</th>\n",
       "      <th>radius_worst</th>\n",
       "      <th>texture_worst</th>\n",
       "      <th>perimeter_worst</th>\n",
       "      <th>area_worst</th>\n",
       "      <th>smoothness_worst</th>\n",
       "      <th>compactness_worst</th>\n",
       "      <th>concavity_worst</th>\n",
       "      <th>concave points_worst</th>\n",
       "      <th>symmetry_worst</th>\n",
       "      <th>fractal_dimension_worst</th>\n",
       "    </tr>\n",
       "  </thead>\n",
       "  <tbody>\n",
       "    <tr>\n",
       "      <td>0</td>\n",
       "      <td>842302</td>\n",
       "      <td>M</td>\n",
       "      <td>17.99</td>\n",
       "      <td>10.38</td>\n",
       "      <td>122.80</td>\n",
       "      <td>1001.0</td>\n",
       "      <td>0.11840</td>\n",
       "      <td>0.27760</td>\n",
       "      <td>0.3001</td>\n",
       "      <td>0.14710</td>\n",
       "      <td>...</td>\n",
       "      <td>25.38</td>\n",
       "      <td>17.33</td>\n",
       "      <td>184.60</td>\n",
       "      <td>2019.0</td>\n",
       "      <td>0.1622</td>\n",
       "      <td>0.6656</td>\n",
       "      <td>0.7119</td>\n",
       "      <td>0.2654</td>\n",
       "      <td>0.4601</td>\n",
       "      <td>0.11890</td>\n",
       "    </tr>\n",
       "    <tr>\n",
       "      <td>1</td>\n",
       "      <td>842517</td>\n",
       "      <td>M</td>\n",
       "      <td>20.57</td>\n",
       "      <td>17.77</td>\n",
       "      <td>132.90</td>\n",
       "      <td>1326.0</td>\n",
       "      <td>0.08474</td>\n",
       "      <td>0.07864</td>\n",
       "      <td>0.0869</td>\n",
       "      <td>0.07017</td>\n",
       "      <td>...</td>\n",
       "      <td>24.99</td>\n",
       "      <td>23.41</td>\n",
       "      <td>158.80</td>\n",
       "      <td>1956.0</td>\n",
       "      <td>0.1238</td>\n",
       "      <td>0.1866</td>\n",
       "      <td>0.2416</td>\n",
       "      <td>0.1860</td>\n",
       "      <td>0.2750</td>\n",
       "      <td>0.08902</td>\n",
       "    </tr>\n",
       "    <tr>\n",
       "      <td>2</td>\n",
       "      <td>84300903</td>\n",
       "      <td>M</td>\n",
       "      <td>19.69</td>\n",
       "      <td>21.25</td>\n",
       "      <td>130.00</td>\n",
       "      <td>1203.0</td>\n",
       "      <td>0.10960</td>\n",
       "      <td>0.15990</td>\n",
       "      <td>0.1974</td>\n",
       "      <td>0.12790</td>\n",
       "      <td>...</td>\n",
       "      <td>23.57</td>\n",
       "      <td>25.53</td>\n",
       "      <td>152.50</td>\n",
       "      <td>1709.0</td>\n",
       "      <td>0.1444</td>\n",
       "      <td>0.4245</td>\n",
       "      <td>0.4504</td>\n",
       "      <td>0.2430</td>\n",
       "      <td>0.3613</td>\n",
       "      <td>0.08758</td>\n",
       "    </tr>\n",
       "    <tr>\n",
       "      <td>3</td>\n",
       "      <td>84348301</td>\n",
       "      <td>M</td>\n",
       "      <td>11.42</td>\n",
       "      <td>20.38</td>\n",
       "      <td>77.58</td>\n",
       "      <td>386.1</td>\n",
       "      <td>0.14250</td>\n",
       "      <td>0.28390</td>\n",
       "      <td>0.2414</td>\n",
       "      <td>0.10520</td>\n",
       "      <td>...</td>\n",
       "      <td>14.91</td>\n",
       "      <td>26.50</td>\n",
       "      <td>98.87</td>\n",
       "      <td>567.7</td>\n",
       "      <td>0.2098</td>\n",
       "      <td>0.8663</td>\n",
       "      <td>0.6869</td>\n",
       "      <td>0.2575</td>\n",
       "      <td>0.6638</td>\n",
       "      <td>0.17300</td>\n",
       "    </tr>\n",
       "    <tr>\n",
       "      <td>4</td>\n",
       "      <td>84358402</td>\n",
       "      <td>M</td>\n",
       "      <td>20.29</td>\n",
       "      <td>14.34</td>\n",
       "      <td>135.10</td>\n",
       "      <td>1297.0</td>\n",
       "      <td>0.10030</td>\n",
       "      <td>0.13280</td>\n",
       "      <td>0.1980</td>\n",
       "      <td>0.10430</td>\n",
       "      <td>...</td>\n",
       "      <td>22.54</td>\n",
       "      <td>16.67</td>\n",
       "      <td>152.20</td>\n",
       "      <td>1575.0</td>\n",
       "      <td>0.1374</td>\n",
       "      <td>0.2050</td>\n",
       "      <td>0.4000</td>\n",
       "      <td>0.1625</td>\n",
       "      <td>0.2364</td>\n",
       "      <td>0.07678</td>\n",
       "    </tr>\n",
       "  </tbody>\n",
       "</table>\n",
       "<p>5 rows × 32 columns</p>\n",
       "</div>"
      ],
      "text/plain": [
       "         id diagnosis  radius_mean  texture_mean  perimeter_mean  area_mean  \\\n",
       "0    842302         M        17.99         10.38          122.80     1001.0   \n",
       "1    842517         M        20.57         17.77          132.90     1326.0   \n",
       "2  84300903         M        19.69         21.25          130.00     1203.0   \n",
       "3  84348301         M        11.42         20.38           77.58      386.1   \n",
       "4  84358402         M        20.29         14.34          135.10     1297.0   \n",
       "\n",
       "   smoothness_mean  compactness_mean  concavity_mean  concave points_mean  \\\n",
       "0          0.11840           0.27760          0.3001              0.14710   \n",
       "1          0.08474           0.07864          0.0869              0.07017   \n",
       "2          0.10960           0.15990          0.1974              0.12790   \n",
       "3          0.14250           0.28390          0.2414              0.10520   \n",
       "4          0.10030           0.13280          0.1980              0.10430   \n",
       "\n",
       "   ...  radius_worst  texture_worst  perimeter_worst  area_worst  \\\n",
       "0  ...         25.38          17.33           184.60      2019.0   \n",
       "1  ...         24.99          23.41           158.80      1956.0   \n",
       "2  ...         23.57          25.53           152.50      1709.0   \n",
       "3  ...         14.91          26.50            98.87       567.7   \n",
       "4  ...         22.54          16.67           152.20      1575.0   \n",
       "\n",
       "   smoothness_worst  compactness_worst  concavity_worst  concave points_worst  \\\n",
       "0            0.1622             0.6656           0.7119                0.2654   \n",
       "1            0.1238             0.1866           0.2416                0.1860   \n",
       "2            0.1444             0.4245           0.4504                0.2430   \n",
       "3            0.2098             0.8663           0.6869                0.2575   \n",
       "4            0.1374             0.2050           0.4000                0.1625   \n",
       "\n",
       "   symmetry_worst  fractal_dimension_worst  \n",
       "0          0.4601                  0.11890  \n",
       "1          0.2750                  0.08902  \n",
       "2          0.3613                  0.08758  \n",
       "3          0.6638                  0.17300  \n",
       "4          0.2364                  0.07678  \n",
       "\n",
       "[5 rows x 32 columns]"
      ]
     },
     "execution_count": 3,
     "metadata": {},
     "output_type": "execute_result"
    }
   ],
   "source": [
    "data.head()"
   ]
  },
  {
   "cell_type": "code",
   "execution_count": 4,
   "metadata": {},
   "outputs": [
    {
     "data": {
      "text/plain": [
       "array(['M', 'B'], dtype=object)"
      ]
     },
     "execution_count": 4,
     "metadata": {},
     "output_type": "execute_result"
    }
   ],
   "source": [
    "data.diagnosis.unique()"
   ]
  },
  {
   "cell_type": "code",
   "execution_count": 5,
   "metadata": {},
   "outputs": [
    {
     "name": "stdout",
     "output_type": "stream",
     "text": [
      "<class 'pandas.core.frame.DataFrame'>\n",
      "RangeIndex: 569 entries, 0 to 568\n",
      "Data columns (total 32 columns):\n",
      "id                         569 non-null int64\n",
      "diagnosis                  569 non-null object\n",
      "radius_mean                569 non-null float64\n",
      "texture_mean               569 non-null float64\n",
      "perimeter_mean             569 non-null float64\n",
      "area_mean                  569 non-null float64\n",
      "smoothness_mean            569 non-null float64\n",
      "compactness_mean           569 non-null float64\n",
      "concavity_mean             569 non-null float64\n",
      "concave points_mean        569 non-null float64\n",
      "symmetry_mean              569 non-null float64\n",
      "fractal_dimension_mean     569 non-null float64\n",
      "radius_se                  569 non-null float64\n",
      "texture_se                 569 non-null float64\n",
      "perimeter_se               569 non-null float64\n",
      "area_se                    569 non-null float64\n",
      "smoothness_se              569 non-null float64\n",
      "compactness_se             569 non-null float64\n",
      "concavity_se               569 non-null float64\n",
      "concave points_se          569 non-null float64\n",
      "symmetry_se                569 non-null float64\n",
      "fractal_dimension_se       569 non-null float64\n",
      "radius_worst               569 non-null float64\n",
      "texture_worst              569 non-null float64\n",
      "perimeter_worst            569 non-null float64\n",
      "area_worst                 569 non-null float64\n",
      "smoothness_worst           569 non-null float64\n",
      "compactness_worst          569 non-null float64\n",
      "concavity_worst            569 non-null float64\n",
      "concave points_worst       569 non-null float64\n",
      "symmetry_worst             569 non-null float64\n",
      "fractal_dimension_worst    569 non-null float64\n",
      "dtypes: float64(30), int64(1), object(1)\n",
      "memory usage: 142.4+ KB\n"
     ]
    }
   ],
   "source": [
    "data.info()"
   ]
  },
  {
   "cell_type": "code",
   "execution_count": 6,
   "metadata": {},
   "outputs": [],
   "source": [
    "data['diagnosis'] = data['diagnosis'].map({'M':1, \"B\":0})"
   ]
  },
  {
   "cell_type": "code",
   "execution_count": 7,
   "metadata": {},
   "outputs": [
    {
     "data": {
      "text/plain": [
       "(569, 32)"
      ]
     },
     "execution_count": 7,
     "metadata": {},
     "output_type": "execute_result"
    }
   ],
   "source": [
    "data.shape"
   ]
  },
  {
   "cell_type": "code",
   "execution_count": 8,
   "metadata": {},
   "outputs": [],
   "source": [
    "x = data.pop('diagnosis')"
   ]
  },
  {
   "cell_type": "code",
   "execution_count": 9,
   "metadata": {},
   "outputs": [],
   "source": [
    "target = x.values\n",
    "inputs = data.iloc[:, 1:].values"
   ]
  },
  {
   "cell_type": "code",
   "execution_count": 10,
   "metadata": {},
   "outputs": [],
   "source": [
    "zeros = 0\n",
    "ones = np.sum(target)\n",
    "indices_to_remove = []\n",
    "\n",
    "for i in range(inputs.shape[0]):\n",
    "    if target[i]==0:\n",
    "        zeros+=1\n",
    "        if zeros>ones:\n",
    "            indices_to_remove.append(i)"
   ]
  },
  {
   "cell_type": "code",
   "execution_count": 11,
   "metadata": {},
   "outputs": [],
   "source": [
    "input_data = np.delete(inputs, indices_to_remove,  axis = 0)\n",
    "output_data = np.delete(target, indices_to_remove, axis = 0)"
   ]
  },
  {
   "cell_type": "code",
   "execution_count": 12,
   "metadata": {},
   "outputs": [],
   "source": [
    "sample_count = output_data.shape[0]\n",
    "shuffled_inputs = np.arange(sample_count)\n",
    "np.random.shuffle(shuffled_inputs)"
   ]
  },
  {
   "cell_type": "code",
   "execution_count": 13,
   "metadata": {},
   "outputs": [],
   "source": [
    "inputs = input_data[shuffled_inputs]\n",
    "targets = output_data[shuffled_inputs]"
   ]
  },
  {
   "cell_type": "code",
   "execution_count": 14,
   "metadata": {},
   "outputs": [
    {
     "name": "stdout",
     "output_type": "stream",
     "text": [
      "169 339 0.49852507374631266\n",
      "19 42 0.4523809523809524\n",
      "23 42 0.5476190476190477\n"
     ]
    }
   ],
   "source": [
    "shape = inputs.shape[0]\n",
    "train_count = int(0.8*shape)\n",
    "valid_count = int(0.1*shape)\n",
    "test_count = int(0.1*shape)\n",
    "\n",
    "train_inputs = inputs[:train_count]\n",
    "train_targets = targets[:train_count]\n",
    "\n",
    "valid_inputs = inputs[train_count:train_count+valid_count]\n",
    "valid_targets = targets[train_count:train_count+valid_count]\n",
    "\n",
    "test_inputs = inputs[-test_count:]\n",
    "test_targets = targets[-test_count:]\n",
    "\n",
    "print(np.sum(train_targets), train_count, np.sum(train_targets)/train_count)\n",
    "print(np.sum(valid_targets), valid_count, np.sum(valid_targets)/valid_count)\n",
    "print(np.sum(test_targets), test_count, np.sum(test_targets)/test_count)"
   ]
  },
  {
   "cell_type": "code",
   "execution_count": 15,
   "metadata": {},
   "outputs": [
    {
     "data": {
      "text/plain": [
       "2"
      ]
     },
     "execution_count": 15,
     "metadata": {},
     "output_type": "execute_result"
    }
   ],
   "source": [
    "train_inputs.ndim"
   ]
  },
  {
   "cell_type": "code",
   "execution_count": 16,
   "metadata": {},
   "outputs": [],
   "source": [
    "from sklearn.preprocessing import StandardScaler\n",
    "scale = StandardScaler()\n",
    "\n",
    "train_scaled_inputs = scale.fit_transform(train_inputs)\n",
    "valid_scaled_inputs = scale.transform(valid_inputs)\n",
    "test_scaled_inputs = scale.transform(test_inputs)"
   ]
  },
  {
   "cell_type": "code",
   "execution_count": 17,
   "metadata": {},
   "outputs": [],
   "source": [
    "np.savez(\"BC_train_1\", inputs = train_scaled_inputs, targets = train_targets)\n",
    "np.savez(\"BC_valid_1\", inputs = valid_scaled_inputs, targets = valid_targets)\n",
    "np.savez(\"BC_test_1\", inputs = test_scaled_inputs, targets = test_targets)"
   ]
  },
  {
   "cell_type": "code",
   "execution_count": 18,
   "metadata": {},
   "outputs": [
    {
     "name": "stderr",
     "output_type": "stream",
     "text": [
      "Using TensorFlow backend.\n"
     ]
    }
   ],
   "source": [
    "from keras.models import Sequential\n",
    "from keras.layers import Dense\n",
    "from keras.layers import Dropout\n"
   ]
  },
  {
   "cell_type": "code",
   "execution_count": 19,
   "metadata": {},
   "outputs": [],
   "source": [
    "train = np.load(\"BC_train_1.npz\")\n",
    "valid= np.load(\"BC_valid_1.npz\")\n"
   ]
  },
  {
   "cell_type": "code",
   "execution_count": 20,
   "metadata": {},
   "outputs": [],
   "source": [
    "model = Sequential()\n",
    "model.add(Dense(20, input_dim = train['inputs'].shape[1],\n",
    "                activation = 'relu'))\n",
    "model.add(Dropout(0.5))\n",
    "model.add(Dense(20, activation = 'relu'))\n",
    "model.add(Dropout(0.5))\n",
    "model.add(Dense(20, activation = 'relu'))\n",
    "model.add(Dropout(0.5))\n",
    "model.add(Dense(units = 1, activation = 'sigmoid', ))"
   ]
  },
  {
   "cell_type": "code",
   "execution_count": 21,
   "metadata": {},
   "outputs": [],
   "source": [
    "model.compile(optimizer = 'adam', loss = 'binary_crossentropy', metrics = ['accuracy'])"
   ]
  },
  {
   "cell_type": "code",
   "execution_count": 22,
   "metadata": {},
   "outputs": [
    {
     "name": "stdout",
     "output_type": "stream",
     "text": [
      "Train on 339 samples, validate on 42 samples\n",
      "Epoch 1/80\n",
      "339/339 [==============================] - 1s 3ms/step - loss: 0.8296 - accuracy: 0.4897 - val_loss: 0.6807 - val_accuracy: 0.5952\n",
      "Epoch 2/80\n",
      "339/339 [==============================] - 0s 112us/step - loss: 0.7580 - accuracy: 0.5221 - val_loss: 0.6593 - val_accuracy: 0.7143\n",
      "Epoch 3/80\n",
      "339/339 [==============================] - 0s 230us/step - loss: 0.7107 - accuracy: 0.5900 - val_loss: 0.6439 - val_accuracy: 0.8333\n",
      "Epoch 4/80\n",
      "339/339 [==============================] - 0s 138us/step - loss: 0.6656 - accuracy: 0.6018 - val_loss: 0.6314 - val_accuracy: 0.9524\n",
      "Epoch 5/80\n",
      "339/339 [==============================] - 0s 204us/step - loss: 0.6438 - accuracy: 0.6165 - val_loss: 0.6159 - val_accuracy: 0.9762\n",
      "Epoch 6/80\n",
      "339/339 [==============================] - 0s 138us/step - loss: 0.6418 - accuracy: 0.6254 - val_loss: 0.5989 - val_accuracy: 0.9286\n",
      "Epoch 7/80\n",
      "339/339 [==============================] - 0s 92us/step - loss: 0.6077 - accuracy: 0.6431 - val_loss: 0.5814 - val_accuracy: 0.9286\n",
      "Epoch 8/80\n",
      "339/339 [==============================] - 0s 158us/step - loss: 0.6494 - accuracy: 0.6254 - val_loss: 0.5656 - val_accuracy: 0.9524\n",
      "Epoch 9/80\n",
      "339/339 [==============================] - 0s 138us/step - loss: 0.6195 - accuracy: 0.6431 - val_loss: 0.5493 - val_accuracy: 0.9524\n",
      "Epoch 10/80\n",
      "339/339 [==============================] - 0s 138us/step - loss: 0.6012 - accuracy: 0.6873 - val_loss: 0.5326 - val_accuracy: 0.9524\n",
      "Epoch 11/80\n",
      "339/339 [==============================] - 0s 204us/step - loss: 0.5505 - accuracy: 0.6962 - val_loss: 0.5155 - val_accuracy: 0.9286\n",
      "Epoch 12/80\n",
      "339/339 [==============================] - 0s 158us/step - loss: 0.5475 - accuracy: 0.7198 - val_loss: 0.4951 - val_accuracy: 0.9286\n",
      "Epoch 13/80\n",
      "339/339 [==============================] - 0s 185us/step - loss: 0.5443 - accuracy: 0.6903 - val_loss: 0.4724 - val_accuracy: 0.9286\n",
      "Epoch 14/80\n",
      "339/339 [==============================] - 0s 158us/step - loss: 0.5335 - accuracy: 0.7581 - val_loss: 0.4472 - val_accuracy: 0.9286\n",
      "Epoch 15/80\n",
      "339/339 [==============================] - 0s 138us/step - loss: 0.5240 - accuracy: 0.7404 - val_loss: 0.4227 - val_accuracy: 0.9286\n",
      "Epoch 16/80\n",
      "339/339 [==============================] - 0s 158us/step - loss: 0.4751 - accuracy: 0.7581 - val_loss: 0.3992 - val_accuracy: 0.9286\n",
      "Epoch 17/80\n",
      "339/339 [==============================] - 0s 204us/step - loss: 0.4695 - accuracy: 0.7876 - val_loss: 0.3767 - val_accuracy: 0.9286\n",
      "Epoch 18/80\n",
      "339/339 [==============================] - 0s 157us/step - loss: 0.4807 - accuracy: 0.7935 - val_loss: 0.3574 - val_accuracy: 0.9286\n",
      "Epoch 19/80\n",
      "339/339 [==============================] - 0s 184us/step - loss: 0.4710 - accuracy: 0.7758 - val_loss: 0.3382 - val_accuracy: 0.9286\n",
      "Epoch 20/80\n",
      "339/339 [==============================] - 0s 204us/step - loss: 0.4065 - accuracy: 0.8171 - val_loss: 0.3188 - val_accuracy: 0.9286\n",
      "Epoch 21/80\n",
      "339/339 [==============================] - 0s 204us/step - loss: 0.4064 - accuracy: 0.8112 - val_loss: 0.2974 - val_accuracy: 0.9286\n",
      "Epoch 22/80\n",
      "339/339 [==============================] - 0s 92us/step - loss: 0.3724 - accuracy: 0.8201 - val_loss: 0.2764 - val_accuracy: 0.9286\n",
      "Epoch 23/80\n",
      "339/339 [==============================] - 0s 185us/step - loss: 0.3699 - accuracy: 0.8378 - val_loss: 0.2558 - val_accuracy: 0.9286\n",
      "Epoch 24/80\n",
      "339/339 [==============================] - 0s 158us/step - loss: 0.3353 - accuracy: 0.8584 - val_loss: 0.2379 - val_accuracy: 0.9286\n",
      "Epoch 25/80\n",
      "339/339 [==============================] - 0s 158us/step - loss: 0.3461 - accuracy: 0.8525 - val_loss: 0.2229 - val_accuracy: 0.9286\n",
      "Epoch 26/80\n",
      "339/339 [==============================] - 0s 138us/step - loss: 0.3173 - accuracy: 0.8378 - val_loss: 0.2094 - val_accuracy: 0.9286\n",
      "Epoch 27/80\n",
      "339/339 [==============================] - 0s 138us/step - loss: 0.3025 - accuracy: 0.8614 - val_loss: 0.1974 - val_accuracy: 0.9286\n",
      "Epoch 28/80\n",
      "339/339 [==============================] - 0s 204us/step - loss: 0.3105 - accuracy: 0.8702 - val_loss: 0.1865 - val_accuracy: 0.9286\n",
      "Epoch 29/80\n",
      "339/339 [==============================] - 0s 362us/step - loss: 0.2911 - accuracy: 0.8732 - val_loss: 0.1768 - val_accuracy: 0.9286\n",
      "Epoch 30/80\n",
      "339/339 [==============================] - 0s 296us/step - loss: 0.3099 - accuracy: 0.8702 - val_loss: 0.1679 - val_accuracy: 0.9286\n",
      "Epoch 31/80\n",
      "339/339 [==============================] - 0s 250us/step - loss: 0.3078 - accuracy: 0.8938 - val_loss: 0.1609 - val_accuracy: 0.9286\n",
      "Epoch 32/80\n",
      "339/339 [==============================] - 0s 204us/step - loss: 0.2556 - accuracy: 0.8909 - val_loss: 0.1544 - val_accuracy: 0.9286\n",
      "Epoch 33/80\n",
      "339/339 [==============================] - 0s 138us/step - loss: 0.2421 - accuracy: 0.8997 - val_loss: 0.1481 - val_accuracy: 0.9286\n",
      "Epoch 34/80\n",
      "339/339 [==============================] - 0s 158us/step - loss: 0.2451 - accuracy: 0.9115 - val_loss: 0.1420 - val_accuracy: 0.9286\n",
      "Epoch 35/80\n",
      "339/339 [==============================] - 0s 184us/step - loss: 0.2399 - accuracy: 0.9204 - val_loss: 0.1367 - val_accuracy: 0.9524\n",
      "Epoch 36/80\n",
      "339/339 [==============================] - 0s 231us/step - loss: 0.2085 - accuracy: 0.9204 - val_loss: 0.1319 - val_accuracy: 0.9524\n",
      "Epoch 37/80\n",
      "339/339 [==============================] - 0s 231us/step - loss: 0.2171 - accuracy: 0.9086 - val_loss: 0.1284 - val_accuracy: 0.9524\n",
      "Epoch 38/80\n",
      "339/339 [==============================] - 0s 296us/step - loss: 0.2210 - accuracy: 0.9351 - val_loss: 0.1255 - val_accuracy: 0.9524\n",
      "Epoch 39/80\n",
      "339/339 [==============================] - 0s 184us/step - loss: 0.1766 - accuracy: 0.9381 - val_loss: 0.1219 - val_accuracy: 0.9524\n",
      "Epoch 40/80\n",
      "339/339 [==============================] - 0s 184us/step - loss: 0.2387 - accuracy: 0.9263 - val_loss: 0.1191 - val_accuracy: 0.9524\n",
      "Epoch 41/80\n",
      "339/339 [==============================] - 0s 250us/step - loss: 0.1721 - accuracy: 0.9263 - val_loss: 0.1164 - val_accuracy: 0.9524\n",
      "Epoch 42/80\n",
      "339/339 [==============================] - 0s 204us/step - loss: 0.1933 - accuracy: 0.9204 - val_loss: 0.1138 - val_accuracy: 0.9524\n",
      "Epoch 43/80\n",
      "339/339 [==============================] - 0s 250us/step - loss: 0.1861 - accuracy: 0.9440 - val_loss: 0.1113 - val_accuracy: 0.9524\n",
      "Epoch 44/80\n",
      "339/339 [==============================] - 0s 184us/step - loss: 0.1725 - accuracy: 0.9469 - val_loss: 0.1092 - val_accuracy: 0.9524\n",
      "Epoch 45/80\n",
      "339/339 [==============================] - 0s 184us/step - loss: 0.1579 - accuracy: 0.9499 - val_loss: 0.1084 - val_accuracy: 0.9524\n",
      "Epoch 46/80\n",
      "339/339 [==============================] - 0s 296us/step - loss: 0.1359 - accuracy: 0.9469 - val_loss: 0.1077 - val_accuracy: 0.9762\n",
      "Epoch 47/80\n",
      "339/339 [==============================] - 0s 204us/step - loss: 0.1669 - accuracy: 0.9410 - val_loss: 0.1068 - val_accuracy: 0.9762\n",
      "Epoch 48/80\n",
      "339/339 [==============================] - 0s 204us/step - loss: 0.1642 - accuracy: 0.9528 - val_loss: 0.1064 - val_accuracy: 0.9762\n",
      "Epoch 49/80\n",
      "339/339 [==============================] - 0s 296us/step - loss: 0.1844 - accuracy: 0.9322 - val_loss: 0.1069 - val_accuracy: 0.9762\n",
      "Epoch 50/80\n",
      "339/339 [==============================] - 0s 296us/step - loss: 0.1888 - accuracy: 0.9558 - val_loss: 0.1071 - val_accuracy: 0.9524\n",
      "Epoch 51/80\n",
      "339/339 [==============================] - 0s 296us/step - loss: 0.1654 - accuracy: 0.9469 - val_loss: 0.1067 - val_accuracy: 0.9524\n",
      "Epoch 52/80\n",
      "339/339 [==============================] - 0s 184us/step - loss: 0.1517 - accuracy: 0.9646 - val_loss: 0.1068 - val_accuracy: 0.9524\n",
      "Epoch 53/80\n",
      "339/339 [==============================] - 0s 185us/step - loss: 0.1739 - accuracy: 0.9292 - val_loss: 0.1046 - val_accuracy: 0.9762\n",
      "Epoch 54/80\n",
      "339/339 [==============================] - 0s 408us/step - loss: 0.1398 - accuracy: 0.9646 - val_loss: 0.1027 - val_accuracy: 0.9762\n",
      "Epoch 55/80\n",
      "339/339 [==============================] - 0s 250us/step - loss: 0.1570 - accuracy: 0.9617 - val_loss: 0.1025 - val_accuracy: 0.9762\n",
      "Epoch 56/80\n",
      "339/339 [==============================] - 0s 250us/step - loss: 0.1152 - accuracy: 0.9617 - val_loss: 0.1025 - val_accuracy: 0.9762\n",
      "Epoch 57/80\n"
     ]
    },
    {
     "name": "stdout",
     "output_type": "stream",
     "text": [
      "339/339 [==============================] - 0s 296us/step - loss: 0.1760 - accuracy: 0.9381 - val_loss: 0.1017 - val_accuracy: 0.9762\n",
      "Epoch 58/80\n",
      "339/339 [==============================] - ETA: 0s - loss: 0.1929 - accuracy: 0.96 - 0s 250us/step - loss: 0.1655 - accuracy: 0.9528 - val_loss: 0.1001 - val_accuracy: 0.9762\n",
      "Epoch 59/80\n",
      "339/339 [==============================] - 0s 204us/step - loss: 0.1668 - accuracy: 0.9381 - val_loss: 0.0980 - val_accuracy: 0.9762\n",
      "Epoch 60/80\n",
      "339/339 [==============================] - 0s 204us/step - loss: 0.1254 - accuracy: 0.9558 - val_loss: 0.0972 - val_accuracy: 0.9762\n",
      "Epoch 61/80\n",
      "339/339 [==============================] - 0s 250us/step - loss: 0.1148 - accuracy: 0.9617 - val_loss: 0.0971 - val_accuracy: 0.9762\n",
      "Epoch 62/80\n",
      "339/339 [==============================] - 0s 231us/step - loss: 0.1539 - accuracy: 0.9469 - val_loss: 0.0967 - val_accuracy: 0.9762\n",
      "Epoch 63/80\n",
      "339/339 [==============================] - 0s 204us/step - loss: 0.1619 - accuracy: 0.9499 - val_loss: 0.0967 - val_accuracy: 0.9762\n",
      "Epoch 64/80\n",
      "339/339 [==============================] - 0s 111us/step - loss: 0.1040 - accuracy: 0.9528 - val_loss: 0.0973 - val_accuracy: 0.9762\n",
      "Epoch 65/80\n",
      "339/339 [==============================] - 0s 184us/step - loss: 0.1138 - accuracy: 0.9646 - val_loss: 0.0972 - val_accuracy: 0.9762\n",
      "Epoch 66/80\n",
      "339/339 [==============================] - 0s 204us/step - loss: 0.1626 - accuracy: 0.9528 - val_loss: 0.0962 - val_accuracy: 0.9762\n",
      "Epoch 67/80\n",
      "339/339 [==============================] - 0s 158us/step - loss: 0.1074 - accuracy: 0.9558 - val_loss: 0.0958 - val_accuracy: 0.9762\n",
      "Epoch 68/80\n",
      "339/339 [==============================] - 0s 138us/step - loss: 0.1012 - accuracy: 0.9646 - val_loss: 0.0953 - val_accuracy: 0.9762\n",
      "Epoch 69/80\n",
      "339/339 [==============================] - 0s 158us/step - loss: 0.1252 - accuracy: 0.9676 - val_loss: 0.0954 - val_accuracy: 0.9762\n",
      "Epoch 70/80\n",
      "339/339 [==============================] - 0s 204us/step - loss: 0.1101 - accuracy: 0.9735 - val_loss: 0.0959 - val_accuracy: 0.9762\n",
      "Epoch 71/80\n",
      "339/339 [==============================] - 0s 204us/step - loss: 0.0981 - accuracy: 0.9764 - val_loss: 0.0964 - val_accuracy: 0.9762\n",
      "Epoch 72/80\n",
      "339/339 [==============================] - 0s 250us/step - loss: 0.1130 - accuracy: 0.9558 - val_loss: 0.0957 - val_accuracy: 0.9762\n",
      "Epoch 73/80\n",
      "339/339 [==============================] - 0s 204us/step - loss: 0.1444 - accuracy: 0.9558 - val_loss: 0.0940 - val_accuracy: 0.9762\n",
      "Epoch 74/80\n",
      "339/339 [==============================] - 0s 185us/step - loss: 0.0854 - accuracy: 0.9735 - val_loss: 0.0938 - val_accuracy: 0.9762\n",
      "Epoch 75/80\n",
      "339/339 [==============================] - 0s 204us/step - loss: 0.0783 - accuracy: 0.9646 - val_loss: 0.0947 - val_accuracy: 0.9762\n",
      "Epoch 76/80\n",
      "339/339 [==============================] - ETA: 0s - loss: 0.2463 - accuracy: 0.96 - 0s 138us/step - loss: 0.1132 - accuracy: 0.9705 - val_loss: 0.0952 - val_accuracy: 0.9762\n",
      "Epoch 77/80\n",
      "339/339 [==============================] - 0s 92us/step - loss: 0.1099 - accuracy: 0.9735 - val_loss: 0.0964 - val_accuracy: 0.9762\n",
      "Epoch 78/80\n",
      "339/339 [==============================] - 0s 204us/step - loss: 0.1055 - accuracy: 0.9676 - val_loss: 0.0962 - val_accuracy: 0.9762\n",
      "Epoch 79/80\n",
      "339/339 [==============================] - 0s 204us/step - loss: 0.1040 - accuracy: 0.9558 - val_loss: 0.0955 - val_accuracy: 0.9762\n",
      "Epoch 80/80\n",
      "339/339 [==============================] - 0s 250us/step - loss: 0.0907 - accuracy: 0.9735 - val_loss: 0.0948 - val_accuracy: 0.9762\n"
     ]
    },
    {
     "data": {
      "text/plain": [
       "<keras.callbacks.callbacks.History at 0x216c036a9c8>"
      ]
     },
     "execution_count": 22,
     "metadata": {},
     "output_type": "execute_result"
    }
   ],
   "source": [
    "model.fit(x = train['inputs'], \n",
    "         y = train['targets'], \n",
    "         batch_size = 50, \n",
    "         epochs = 80, \n",
    "         validation_data = (valid['inputs'], valid['targets']))"
   ]
  },
  {
   "cell_type": "code",
   "execution_count": 23,
   "metadata": {},
   "outputs": [],
   "source": [
    "score_history = model.history.history"
   ]
  },
  {
   "cell_type": "code",
   "execution_count": 24,
   "metadata": {},
   "outputs": [
    {
     "data": {
      "image/png": "[encoded data removed]",
      "text/plain": [
       "<Figure size 432x288 with 1 Axes>"
      ]
     },
     "metadata": {
      "needs_background": "light"
     },
     "output_type": "display_data"
    }
   ],
   "source": [
    "pt.title(\"Epoch vs Accuracy\")\n",
    "\n",
    "pt.xlabel(\"Epochs\")\n",
    "pt.ylabel(\"Accuracy\")\n",
    "pt.plot(model.history.epoch, score_history['val_accuracy'], c = 'red', label = 'validation_accurcay')\n",
    "pt.plot(model.history.epoch, score_history['accuracy'], c = 'blue', label = 'training_accuracy')\n",
    "pt.legend()\n",
    "pt.show()"
   ]
  },
  {
   "cell_type": "code",
   "execution_count": 25,
   "metadata": {},
   "outputs": [
    {
     "data": {
      "text/plain": [
       "0.976190447807312"
      ]
     },
     "execution_count": 25,
     "metadata": {},
     "output_type": "execute_result"
    }
   ],
   "source": [
    "max(score_history['val_accuracy'])"
   ]
  },
  {
   "cell_type": "code",
   "execution_count": 26,
   "metadata": {},
   "outputs": [
    {
     "data": {
      "text/plain": [
       "[0.01258229551881197, 1.0]"
      ]
     },
     "execution_count": 26,
     "metadata": {},
     "output_type": "execute_result"
    }
   ],
   "source": [
    "test = np.load(\"BC_test_0.npz\")\n",
    "model.evaluate(test['inputs'], test['targets'], verbose = 0)"
   ]
  },
  {
   "cell_type": "code",
   "execution_count": 27,
   "metadata": {},
   "outputs": [
    {
     "data": {
      "image/png": "[encoded data removed]",
      "text/plain": [
       "<Figure size 432x288 with 1 Axes>"
      ]
     },
     "metadata": {
      "needs_background": "light"
     },
     "output_type": "display_data"
    }
   ],
   "source": [
    "pt.title(\"Epoch vs loss\")\n",
    "\n",
    "pt.xlabel(\"Epochs\")\n",
    "pt.ylabel(\"loss\")\n",
    "pt.plot(model.history.epoch, score_history['val_loss'], c = 'green', label = 'validation_loss')\n",
    "pt.plot(model.history.epoch, score_history['loss'], c = 'orange', label = 'training_loss')\n",
    "pt.legend()\n",
    "pt.show()"
   ]
  },
  {
   "cell_type": "code",
   "execution_count": 52,
   "metadata": {},
   "outputs": [
    {
     "data": {
      "text/plain": [
       "0.07828442572140765"
      ]
     },
     "execution_count": 52,
     "metadata": {},
     "output_type": "execute_result"
    }
   ],
   "source": [
    "min(score_history['loss'])"
   ]
  },
  {
   "cell_type": "code",
   "execution_count": 51,
   "metadata": {},
   "outputs": [
    {
     "data": {
      "text/plain": [
       "0.09383538365364075"
      ]
     },
     "execution_count": 51,
     "metadata": {},
     "output_type": "execute_result"
    }
   ],
   "source": [
    "min(score_history['val_loss'])"
   ]
  },
  {
   "cell_type": "code",
   "execution_count": 55,
   "metadata": {},
   "outputs": [],
   "source": [
    "np.set_printoptions(suppress = True)"
   ]
  },
  {
   "cell_type": "code",
   "execution_count": 63,
   "metadata": {},
   "outputs": [
    {
     "data": {
      "text/plain": [
       "array([[1.]], dtype=float32)"
      ]
     },
     "execution_count": 63,
     "metadata": {},
     "output_type": "execute_result"
    }
   ],
   "source": [
    "check = input_data[0]-min(input_data[0])\n",
    "check = check.reshape(1, -1)\n",
    "check = scale.transform(check)\n",
    "\n",
    "model.predict(check)"
   ]
  },
  {
   "cell_type": "code",
   "execution_count": 73,
   "metadata": {},
   "outputs": [],
   "source": [
    "model.save('breast_cancer_model.h5')"
   ]
  },
  {
   "cell_type": "code",
   "execution_count": 45,
   "metadata": {},
   "outputs": [],
   "source": [
    "u = np.array(np.where(output_data==0)).flatten()"
   ]
  },
  {
   "cell_type": "code",
   "execution_count": 47,
   "metadata": {},
   "outputs": [
    {
     "name": "stdout",
     "output_type": "stream",
     "text": [
      "Probability is : [[0.00976085]] Patient Diagnosis class: 0\n",
      "Probability is : [[0.00283509]] Patient Diagnosis class: 0\n",
      "Probability is : [[2.6455461e-06]] Patient Diagnosis class: 0\n",
      "Probability is : [[0.00026044]] Patient Diagnosis class: 0\n",
      "Probability is : [[5.786155e-07]] Patient Diagnosis class: 0\n",
      "Probability is : [[0.00132987]] Patient Diagnosis class: 0\n",
      "Probability is : [[0.2187973]] Patient Diagnosis class: 0\n",
      "Probability is : [[0.0004337]] Patient Diagnosis class: 0\n",
      "Probability is : [[0.0007406]] Patient Diagnosis class: 0\n",
      "Probability is : [[7.30579e-05]] Patient Diagnosis class: 0\n",
      "Probability is : [[0.00029514]] Patient Diagnosis class: 0\n",
      "Probability is : [[0.0001243]] Patient Diagnosis class: 0\n",
      "Probability is : [[3.392393e-07]] Patient Diagnosis class: 0\n",
      "Probability is : [[1.9315401e-05]] Patient Diagnosis class: 0\n",
      "Probability is : [[8.3000596e-05]] Patient Diagnosis class: 0\n",
      "Probability is : [[6.0689933e-07]] Patient Diagnosis class: 0\n",
      "Probability is : [[0.00044651]] Patient Diagnosis class: 0\n",
      "Probability is : [[0.00012734]] Patient Diagnosis class: 0\n",
      "Probability is : [[0.00159715]] Patient Diagnosis class: 0\n",
      "Probability is : [[0.00029584]] Patient Diagnosis class: 0\n",
      "Probability is : [[5.024856e-08]] Patient Diagnosis class: 0\n",
      "Probability is : [[0.00141496]] Patient Diagnosis class: 0\n",
      "Probability is : [[0.00023862]] Patient Diagnosis class: 0\n",
      "Probability is : [[0.00605132]] Patient Diagnosis class: 0\n",
      "Probability is : [[0.00975942]] Patient Diagnosis class: 0\n",
      "Probability is : [[0.37379962]] Patient Diagnosis class: 0\n",
      "Probability is : [[0.00159137]] Patient Diagnosis class: 0\n",
      "Probability is : [[0.03063372]] Patient Diagnosis class: 0\n",
      "Probability is : [[0.23188819]] Patient Diagnosis class: 0\n",
      "Probability is : [[0.09713229]] Patient Diagnosis class: 0\n",
      "Probability is : [[0.00603996]] Patient Diagnosis class: 0\n",
      "Probability is : [[0.02945224]] Patient Diagnosis class: 0\n",
      "Probability is : [[0.00056843]] Patient Diagnosis class: 0\n",
      "Probability is : [[2.6150834e-05]] Patient Diagnosis class: 0\n",
      "Probability is : [[6.787412e-05]] Patient Diagnosis class: 0\n",
      "Probability is : [[1.390943e-07]] Patient Diagnosis class: 0\n",
      "Probability is : [[0.00478243]] Patient Diagnosis class: 0\n",
      "Probability is : [[0.00062462]] Patient Diagnosis class: 0\n",
      "Probability is : [[4.884348e-05]] Patient Diagnosis class: 0\n",
      "Probability is : [[0.0991114]] Patient Diagnosis class: 0\n",
      "Probability is : [[0.00228454]] Patient Diagnosis class: 0\n",
      "Probability is : [[0.00264431]] Patient Diagnosis class: 0\n",
      "Probability is : [[9.769199e-06]] Patient Diagnosis class: 0\n",
      "Probability is : [[0.00649718]] Patient Diagnosis class: 0\n",
      "Probability is : [[0.01064469]] Patient Diagnosis class: 0\n",
      "Probability is : [[7.765006e-05]] Patient Diagnosis class: 0\n",
      "Probability is : [[2.7461347e-05]] Patient Diagnosis class: 0\n",
      "Probability is : [[0.00425429]] Patient Diagnosis class: 0\n",
      "Probability is : [[1.0905721e-07]] Patient Diagnosis class: 0\n",
      "Probability is : [[6.0893068e-05]] Patient Diagnosis class: 0\n",
      "Probability is : [[0.01339036]] Patient Diagnosis class: 0\n",
      "Probability is : [[0.00033333]] Patient Diagnosis class: 0\n",
      "Probability is : [[0.0014576]] Patient Diagnosis class: 0\n",
      "Probability is : [[0.42419007]] Patient Diagnosis class: 0\n",
      "Probability is : [[0.00031107]] Patient Diagnosis class: 0\n",
      "Probability is : [[0.08976031]] Patient Diagnosis class: 0\n",
      "Probability is : [[0.00369662]] Patient Diagnosis class: 0\n",
      "Probability is : [[0.0003499]] Patient Diagnosis class: 0\n",
      "Probability is : [[0.00028024]] Patient Diagnosis class: 0\n",
      "Probability is : [[1.7876164e-07]] Patient Diagnosis class: 0\n",
      "Probability is : [[0.00181017]] Patient Diagnosis class: 0\n",
      "Probability is : [[0.00284098]] Patient Diagnosis class: 0\n",
      "Probability is : [[6.8711443e-06]] Patient Diagnosis class: 0\n",
      "Probability is : [[4.1340954e-05]] Patient Diagnosis class: 0\n",
      "Probability is : [[0.00866166]] Patient Diagnosis class: 0\n",
      "Probability is : [[0.07343361]] Patient Diagnosis class: 0\n",
      "Probability is : [[0.00122754]] Patient Diagnosis class: 0\n",
      "Probability is : [[0.01361784]] Patient Diagnosis class: 0\n",
      "Probability is : [[2.0675312e-05]] Patient Diagnosis class: 0\n",
      "Probability is : [[0.00027635]] Patient Diagnosis class: 0\n",
      "Probability is : [[1.0149001e-05]] Patient Diagnosis class: 0\n",
      "Probability is : [[0.00343772]] Patient Diagnosis class: 0\n",
      "Probability is : [[0.00109335]] Patient Diagnosis class: 0\n",
      "Probability is : [[0.31725448]] Patient Diagnosis class: 0\n",
      "Probability is : [[6.5794586e-05]] Patient Diagnosis class: 0\n",
      "Probability is : [[5.0519116e-06]] Patient Diagnosis class: 0\n",
      "Probability is : [[0.00866713]] Patient Diagnosis class: 0\n",
      "Probability is : [[0.00442585]] Patient Diagnosis class: 0\n",
      "Probability is : [[0.0105583]] Patient Diagnosis class: 0\n",
      "Probability is : [[1.1335761e-06]] Patient Diagnosis class: 0\n",
      "Probability is : [[0.02920403]] Patient Diagnosis class: 0\n",
      "Probability is : [[0.00025608]] Patient Diagnosis class: 0\n",
      "Probability is : [[1.7403108e-06]] Patient Diagnosis class: 0\n",
      "Probability is : [[8.605703e-07]] Patient Diagnosis class: 0\n",
      "Probability is : [[4.449076e-08]] Patient Diagnosis class: 0\n",
      "Probability is : [[1.4249039e-05]] Patient Diagnosis class: 0\n",
      "Probability is : [[0.00018212]] Patient Diagnosis class: 0\n",
      "Probability is : [[1.5275298e-05]] Patient Diagnosis class: 0\n",
      "Probability is : [[2.2428656e-05]] Patient Diagnosis class: 0\n",
      "Probability is : [[5.8777387e-06]] Patient Diagnosis class: 0\n",
      "Probability is : [[0.00106409]] Patient Diagnosis class: 0\n",
      "Probability is : [[0.00042616]] Patient Diagnosis class: 0\n",
      "Probability is : [[4.9951435e-05]] Patient Diagnosis class: 0\n",
      "Probability is : [[0.00320856]] Patient Diagnosis class: 0\n",
      "Probability is : [[1.3425465e-07]] Patient Diagnosis class: 0\n",
      "Probability is : [[0.00042628]] Patient Diagnosis class: 0\n",
      "Probability is : [[0.03727276]] Patient Diagnosis class: 0\n",
      "Probability is : [[0.03043324]] Patient Diagnosis class: 0\n",
      "Probability is : [[5.835144e-05]] Patient Diagnosis class: 0\n",
      "Probability is : [[0.26675764]] Patient Diagnosis class: 0\n",
      "Probability is : [[0.00549929]] Patient Diagnosis class: 0\n",
      "Probability is : [[0.00055927]] Patient Diagnosis class: 0\n",
      "Probability is : [[0.0053556]] Patient Diagnosis class: 0\n",
      "Probability is : [[1.6974232e-05]] Patient Diagnosis class: 0\n",
      "Probability is : [[0.00058945]] Patient Diagnosis class: 0\n",
      "Probability is : [[0.00345603]] Patient Diagnosis class: 0\n",
      "Probability is : [[6.476688e-05]] Patient Diagnosis class: 0\n",
      "Probability is : [[0.00453312]] Patient Diagnosis class: 0\n",
      "Probability is : [[0.03136308]] Patient Diagnosis class: 0\n",
      "Probability is : [[2.453779e-05]] Patient Diagnosis class: 0\n",
      "Probability is : [[0.0223364]] Patient Diagnosis class: 0\n",
      "Probability is : [[0.04090438]] Patient Diagnosis class: 0\n",
      "Probability is : [[0.00041674]] Patient Diagnosis class: 0\n",
      "Probability is : [[0.01576348]] Patient Diagnosis class: 0\n",
      "Probability is : [[3.1787952e-06]] Patient Diagnosis class: 0\n",
      "Probability is : [[0.03708508]] Patient Diagnosis class: 0\n",
      "Probability is : [[0.9298508]] Patient Diagnosis class: 1\n",
      "Probability is : [[0.00299938]] Patient Diagnosis class: 0\n",
      "Probability is : [[3.3777273e-05]] Patient Diagnosis class: 0\n",
      "Probability is : [[0.00265444]] Patient Diagnosis class: 0\n",
      "Probability is : [[0.01039225]] Patient Diagnosis class: 0\n",
      "Probability is : [[0.00066714]] Patient Diagnosis class: 0\n",
      "Probability is : [[0.00036624]] Patient Diagnosis class: 0\n",
      "Probability is : [[0.00328483]] Patient Diagnosis class: 0\n",
      "Probability is : [[0.01144286]] Patient Diagnosis class: 0\n",
      "Probability is : [[0.00057596]] Patient Diagnosis class: 0\n",
      "Probability is : [[0.00048721]] Patient Diagnosis class: 0\n",
      "Probability is : [[0.00027538]] Patient Diagnosis class: 0\n",
      "Probability is : [[0.00855977]] Patient Diagnosis class: 0\n",
      "Probability is : [[0.00091374]] Patient Diagnosis class: 0\n",
      "Probability is : [[0.0005774]] Patient Diagnosis class: 0\n",
      "Probability is : [[5.6678768e-05]] Patient Diagnosis class: 0\n",
      "Probability is : [[4.658986e-05]] Patient Diagnosis class: 0\n",
      "Probability is : [[5.881726e-06]] Patient Diagnosis class: 0\n",
      "Probability is : [[0.00801673]] Patient Diagnosis class: 0\n",
      "Probability is : [[5.381809e-06]] Patient Diagnosis class: 0\n",
      "Probability is : [[0.00243329]] Patient Diagnosis class: 0\n",
      "Probability is : [[0.00775061]] Patient Diagnosis class: 0\n",
      "Probability is : [[0.00014312]] Patient Diagnosis class: 0\n",
      "Probability is : [[0.00028764]] Patient Diagnosis class: 0\n",
      "Probability is : [[3.8520964e-05]] Patient Diagnosis class: 0\n",
      "Probability is : [[0.00220799]] Patient Diagnosis class: 0\n",
      "Probability is : [[6.4905544e-06]] Patient Diagnosis class: 0\n",
      "Probability is : [[0.00012462]] Patient Diagnosis class: 0\n",
      "Probability is : [[0.00022821]] Patient Diagnosis class: 0\n",
      "Probability is : [[0.00412264]] Patient Diagnosis class: 0\n",
      "Probability is : [[0.30610114]] Patient Diagnosis class: 0\n",
      "Probability is : [[0.0012559]] Patient Diagnosis class: 0\n",
      "Probability is : [[0.00101956]] Patient Diagnosis class: 0\n",
      "Probability is : [[0.00011606]] Patient Diagnosis class: 0\n",
      "Probability is : [[0.00020292]] Patient Diagnosis class: 0\n",
      "Probability is : [[6.7829563e-07]] Patient Diagnosis class: 0\n",
      "Probability is : [[0.00357405]] Patient Diagnosis class: 0\n",
      "Probability is : [[2.8446451e-05]] Patient Diagnosis class: 0\n",
      "Probability is : [[0.00060717]] Patient Diagnosis class: 0\n",
      "Probability is : [[9.9142046e-05]] Patient Diagnosis class: 0\n",
      "Probability is : [[7.2103256e-05]] Patient Diagnosis class: 0\n",
      "Probability is : [[0.00046872]] Patient Diagnosis class: 0\n",
      "Probability is : [[9.6044794e-05]] Patient Diagnosis class: 0\n",
      "Probability is : [[7.075702e-08]] Patient Diagnosis class: 0\n",
      "Probability is : [[2.3067143e-05]] Patient Diagnosis class: 0\n",
      "Probability is : [[0.00010099]] Patient Diagnosis class: 0\n",
      "Probability is : [[0.00040223]] Patient Diagnosis class: 0\n",
      "Probability is : [[0.00214152]] Patient Diagnosis class: 0\n",
      "Probability is : [[0.00014212]] Patient Diagnosis class: 0\n",
      "Probability is : [[2.275386e-06]] Patient Diagnosis class: 0\n",
      "Probability is : [[6.7296966e-08]] Patient Diagnosis class: 0\n",
      "Probability is : [[2.8965833e-05]] Patient Diagnosis class: 0\n",
      "Probability is : [[2.8409318e-06]] Patient Diagnosis class: 0\n",
      "Probability is : [[9.012092e-05]] Patient Diagnosis class: 0\n",
      "Probability is : [[1.3730227e-05]] Patient Diagnosis class: 0\n",
      "Probability is : [[8.383623e-05]] Patient Diagnosis class: 0\n"
     ]
    },
    {
     "name": "stdout",
     "output_type": "stream",
     "text": [
      "Probability is : [[0.00487202]] Patient Diagnosis class: 0\n",
      "Probability is : [[0.00022006]] Patient Diagnosis class: 0\n",
      "Probability is : [[0.00062607]] Patient Diagnosis class: 0\n",
      "Probability is : [[0.00057088]] Patient Diagnosis class: 0\n",
      "Probability is : [[2.6525859e-05]] Patient Diagnosis class: 0\n",
      "Probability is : [[0.005292]] Patient Diagnosis class: 0\n",
      "Probability is : [[8.623889e-05]] Patient Diagnosis class: 0\n",
      "Probability is : [[1.4898602e-05]] Patient Diagnosis class: 0\n",
      "Probability is : [[0.00031318]] Patient Diagnosis class: 0\n",
      "Probability is : [[2.7280797e-05]] Patient Diagnosis class: 0\n",
      "Probability is : [[0.00025504]] Patient Diagnosis class: 0\n",
      "Probability is : [[0.12460601]] Patient Diagnosis class: 0\n",
      "Probability is : [[2.2251974e-05]] Patient Diagnosis class: 0\n",
      "Probability is : [[0.00017216]] Patient Diagnosis class: 0\n",
      "Probability is : [[0.00054917]] Patient Diagnosis class: 0\n",
      "Probability is : [[1.0102226e-06]] Patient Diagnosis class: 0\n",
      "Probability is : [[0.00048084]] Patient Diagnosis class: 0\n",
      "Probability is : [[0.02236072]] Patient Diagnosis class: 0\n",
      "Probability is : [[6.3547275e-05]] Patient Diagnosis class: 0\n",
      "Probability is : [[0.00023048]] Patient Diagnosis class: 0\n",
      "Probability is : [[2.9156505e-05]] Patient Diagnosis class: 0\n",
      "Probability is : [[2.2299805e-06]] Patient Diagnosis class: 0\n",
      "Probability is : [[0.00069454]] Patient Diagnosis class: 0\n",
      "Probability is : [[0.03637079]] Patient Diagnosis class: 0\n",
      "Probability is : [[0.00226474]] Patient Diagnosis class: 0\n",
      "Probability is : [[1.0991681e-06]] Patient Diagnosis class: 0\n",
      "Probability is : [[0.00019196]] Patient Diagnosis class: 0\n",
      "Probability is : [[4.2463183e-05]] Patient Diagnosis class: 0\n",
      "Probability is : [[0.00603585]] Patient Diagnosis class: 0\n",
      "Probability is : [[0.00371226]] Patient Diagnosis class: 0\n",
      "Probability is : [[0.8496398]] Patient Diagnosis class: 1\n",
      "Probability is : [[0.00053788]] Patient Diagnosis class: 0\n",
      "Probability is : [[0.0039696]] Patient Diagnosis class: 0\n",
      "Probability is : [[0.00054158]] Patient Diagnosis class: 0\n",
      "Probability is : [[0.00078011]] Patient Diagnosis class: 0\n",
      "Probability is : [[0.06888835]] Patient Diagnosis class: 0\n",
      "Probability is : [[0.0001101]] Patient Diagnosis class: 0\n",
      "Probability is : [[0.03387724]] Patient Diagnosis class: 0\n",
      "Probability is : [[0.00095061]] Patient Diagnosis class: 0\n",
      "Probability is : [[0.00905444]] Patient Diagnosis class: 0\n"
     ]
    }
   ],
   "source": [
    "for i in u:\n",
    "    test = input_data[i , :]\n",
    "    test = test.reshape(1, -1)\n",
    "    test = scale.transform(test)\n",
    "    prediciton_prob = model.predict(test)\n",
    "    result = 0 if prediciton_prob<0.5 else 1\n",
    "    print(\"Probability is : \"+str(prediciton_prob)+\" Patient Diagnosis class: \"+str(result))"
   ]
  },
  {
   "cell_type": "code",
   "execution_count": 48,
   "metadata": {},
   "outputs": [],
   "source": [
    "v = np.array(np.where(output_data==1)).flatten()"
   ]
  },
  {
   "cell_type": "code",
   "execution_count": 50,
   "metadata": {},
   "outputs": [
    {
     "name": "stdout",
     "output_type": "stream",
     "text": [
      "Probability is : [[1.]] Patient Diagnosis class: 1\n",
      "Probability is : [[0.99995744]] Patient Diagnosis class: 1\n",
      "Probability is : [[1.]] Patient Diagnosis class: 1\n",
      "Probability is : [[0.9999882]] Patient Diagnosis class: 1\n",
      "Probability is : [[0.99992]] Patient Diagnosis class: 1\n",
      "Probability is : [[0.99687517]] Patient Diagnosis class: 1\n",
      "Probability is : [[0.99999213]] Patient Diagnosis class: 1\n",
      "Probability is : [[0.9886255]] Patient Diagnosis class: 1\n",
      "Probability is : [[0.9999466]] Patient Diagnosis class: 1\n",
      "Probability is : [[1.]] Patient Diagnosis class: 1\n",
      "Probability is : [[0.9812284]] Patient Diagnosis class: 1\n",
      "Probability is : [[0.9998323]] Patient Diagnosis class: 1\n",
      "Probability is : [[0.9999877]] Patient Diagnosis class: 1\n",
      "Probability is : [[0.80446786]] Patient Diagnosis class: 1\n",
      "Probability is : [[0.9999025]] Patient Diagnosis class: 1\n",
      "Probability is : [[0.99999964]] Patient Diagnosis class: 1\n",
      "Probability is : [[0.9971589]] Patient Diagnosis class: 1\n",
      "Probability is : [[0.9999989]] Patient Diagnosis class: 1\n",
      "Probability is : [[1.]] Patient Diagnosis class: 1\n",
      "Probability is : [[0.9991228]] Patient Diagnosis class: 1\n",
      "Probability is : [[1.]] Patient Diagnosis class: 1\n",
      "Probability is : [[1.]] Patient Diagnosis class: 1\n",
      "Probability is : [[0.99999416]] Patient Diagnosis class: 1\n",
      "Probability is : [[0.9999914]] Patient Diagnosis class: 1\n",
      "Probability is : [[0.99994016]] Patient Diagnosis class: 1\n",
      "Probability is : [[1.]] Patient Diagnosis class: 1\n",
      "Probability is : [[0.97976923]] Patient Diagnosis class: 1\n",
      "Probability is : [[1.]] Patient Diagnosis class: 1\n",
      "Probability is : [[0.99956983]] Patient Diagnosis class: 1\n",
      "Probability is : [[0.9999999]] Patient Diagnosis class: 1\n",
      "Probability is : [[1.]] Patient Diagnosis class: 1\n",
      "Probability is : [[0.9999801]] Patient Diagnosis class: 1\n",
      "Probability is : [[0.9999969]] Patient Diagnosis class: 1\n",
      "Probability is : [[0.99747086]] Patient Diagnosis class: 1\n",
      "Probability is : [[0.3743114]] Patient Diagnosis class: 0\n",
      "Probability is : [[0.97674906]] Patient Diagnosis class: 1\n",
      "Probability is : [[0.09728354]] Patient Diagnosis class: 0\n",
      "Probability is : [[0.9875717]] Patient Diagnosis class: 1\n",
      "Probability is : [[1.]] Patient Diagnosis class: 1\n",
      "Probability is : [[0.985444]] Patient Diagnosis class: 1\n",
      "Probability is : [[0.9886227]] Patient Diagnosis class: 1\n",
      "Probability is : [[1.]] Patient Diagnosis class: 1\n",
      "Probability is : [[0.9989807]] Patient Diagnosis class: 1\n",
      "Probability is : [[0.99979705]] Patient Diagnosis class: 1\n",
      "Probability is : [[0.98656195]] Patient Diagnosis class: 1\n",
      "Probability is : [[1.]] Patient Diagnosis class: 1\n",
      "Probability is : [[0.9994374]] Patient Diagnosis class: 1\n",
      "Probability is : [[0.99996674]] Patient Diagnosis class: 1\n",
      "Probability is : [[0.9997737]] Patient Diagnosis class: 1\n",
      "Probability is : [[0.9996954]] Patient Diagnosis class: 1\n",
      "Probability is : [[0.99999714]] Patient Diagnosis class: 1\n",
      "Probability is : [[1.]] Patient Diagnosis class: 1\n",
      "Probability is : [[0.07517233]] Patient Diagnosis class: 0\n",
      "Probability is : [[0.9983987]] Patient Diagnosis class: 1\n",
      "Probability is : [[0.9999957]] Patient Diagnosis class: 1\n",
      "Probability is : [[1.]] Patient Diagnosis class: 1\n",
      "Probability is : [[1.]] Patient Diagnosis class: 1\n",
      "Probability is : [[0.9999931]] Patient Diagnosis class: 1\n",
      "Probability is : [[0.99998796]] Patient Diagnosis class: 1\n",
      "Probability is : [[0.89704627]] Patient Diagnosis class: 1\n",
      "Probability is : [[0.99999976]] Patient Diagnosis class: 1\n",
      "Probability is : [[0.40148395]] Patient Diagnosis class: 0\n",
      "Probability is : [[0.9992694]] Patient Diagnosis class: 1\n",
      "Probability is : [[0.99999976]] Patient Diagnosis class: 1\n",
      "Probability is : [[0.9245287]] Patient Diagnosis class: 1\n",
      "Probability is : [[0.97520864]] Patient Diagnosis class: 1\n",
      "Probability is : [[0.9992756]] Patient Diagnosis class: 1\n",
      "Probability is : [[1.]] Patient Diagnosis class: 1\n",
      "Probability is : [[0.9999517]] Patient Diagnosis class: 1\n",
      "Probability is : [[0.99999976]] Patient Diagnosis class: 1\n",
      "Probability is : [[0.9980652]] Patient Diagnosis class: 1\n",
      "Probability is : [[0.99996746]] Patient Diagnosis class: 1\n",
      "Probability is : [[1.]] Patient Diagnosis class: 1\n",
      "Probability is : [[0.99444973]] Patient Diagnosis class: 1\n",
      "Probability is : [[0.999716]] Patient Diagnosis class: 1\n",
      "Probability is : [[1.]] Patient Diagnosis class: 1\n",
      "Probability is : [[0.99940896]] Patient Diagnosis class: 1\n",
      "Probability is : [[0.999526]] Patient Diagnosis class: 1\n",
      "Probability is : [[0.9999981]] Patient Diagnosis class: 1\n",
      "Probability is : [[0.05583306]] Patient Diagnosis class: 0\n",
      "Probability is : [[0.9985362]] Patient Diagnosis class: 1\n",
      "Probability is : [[0.9862124]] Patient Diagnosis class: 1\n",
      "Probability is : [[0.9429745]] Patient Diagnosis class: 1\n",
      "Probability is : [[0.99996257]] Patient Diagnosis class: 1\n",
      "Probability is : [[0.999141]] Patient Diagnosis class: 1\n",
      "Probability is : [[1.]] Patient Diagnosis class: 1\n",
      "Probability is : [[1.]] Patient Diagnosis class: 1\n",
      "Probability is : [[0.9816745]] Patient Diagnosis class: 1\n",
      "Probability is : [[1.]] Patient Diagnosis class: 1\n",
      "Probability is : [[0.91611975]] Patient Diagnosis class: 1\n",
      "Probability is : [[0.9988341]] Patient Diagnosis class: 1\n",
      "Probability is : [[0.9997155]] Patient Diagnosis class: 1\n",
      "Probability is : [[1.]] Patient Diagnosis class: 1\n",
      "Probability is : [[1.]] Patient Diagnosis class: 1\n",
      "Probability is : [[0.99973005]] Patient Diagnosis class: 1\n",
      "Probability is : [[0.971385]] Patient Diagnosis class: 1\n",
      "Probability is : [[0.9996282]] Patient Diagnosis class: 1\n",
      "Probability is : [[0.9999511]] Patient Diagnosis class: 1\n",
      "Probability is : [[0.9992349]] Patient Diagnosis class: 1\n",
      "Probability is : [[0.9888382]] Patient Diagnosis class: 1\n",
      "Probability is : [[0.9996718]] Patient Diagnosis class: 1\n",
      "Probability is : [[0.9512415]] Patient Diagnosis class: 1\n",
      "Probability is : [[0.9999995]] Patient Diagnosis class: 1\n",
      "Probability is : [[0.999882]] Patient Diagnosis class: 1\n",
      "Probability is : [[0.9996699]] Patient Diagnosis class: 1\n",
      "Probability is : [[1.]] Patient Diagnosis class: 1\n",
      "Probability is : [[1.]] Patient Diagnosis class: 1\n",
      "Probability is : [[0.837818]] Patient Diagnosis class: 1\n",
      "Probability is : [[0.9794012]] Patient Diagnosis class: 1\n",
      "Probability is : [[0.99999976]] Patient Diagnosis class: 1\n",
      "Probability is : [[1.]] Patient Diagnosis class: 1\n",
      "Probability is : [[0.99825674]] Patient Diagnosis class: 1\n",
      "Probability is : [[0.9981499]] Patient Diagnosis class: 1\n",
      "Probability is : [[0.91789734]] Patient Diagnosis class: 1\n",
      "Probability is : [[1.]] Patient Diagnosis class: 1\n",
      "Probability is : [[1.]] Patient Diagnosis class: 1\n",
      "Probability is : [[0.9999012]] Patient Diagnosis class: 1\n",
      "Probability is : [[0.9991272]] Patient Diagnosis class: 1\n",
      "Probability is : [[0.9999914]] Patient Diagnosis class: 1\n",
      "Probability is : [[1.]] Patient Diagnosis class: 1\n",
      "Probability is : [[1.]] Patient Diagnosis class: 1\n",
      "Probability is : [[0.99999094]] Patient Diagnosis class: 1\n",
      "Probability is : [[1.]] Patient Diagnosis class: 1\n",
      "Probability is : [[0.99999547]] Patient Diagnosis class: 1\n",
      "Probability is : [[1.]] Patient Diagnosis class: 1\n",
      "Probability is : [[1.]] Patient Diagnosis class: 1\n",
      "Probability is : [[0.9992487]] Patient Diagnosis class: 1\n",
      "Probability is : [[0.9999999]] Patient Diagnosis class: 1\n",
      "Probability is : [[0.7713568]] Patient Diagnosis class: 1\n",
      "Probability is : [[1.]] Patient Diagnosis class: 1\n",
      "Probability is : [[0.99972147]] Patient Diagnosis class: 1\n",
      "Probability is : [[0.9999999]] Patient Diagnosis class: 1\n",
      "Probability is : [[1.]] Patient Diagnosis class: 1\n",
      "Probability is : [[1.]] Patient Diagnosis class: 1\n",
      "Probability is : [[0.9917092]] Patient Diagnosis class: 1\n",
      "Probability is : [[0.9987343]] Patient Diagnosis class: 1\n",
      "Probability is : [[0.88477737]] Patient Diagnosis class: 1\n",
      "Probability is : [[0.99999106]] Patient Diagnosis class: 1\n",
      "Probability is : [[1.]] Patient Diagnosis class: 1\n",
      "Probability is : [[1.]] Patient Diagnosis class: 1\n",
      "Probability is : [[0.99967]] Patient Diagnosis class: 1\n",
      "Probability is : [[0.9930201]] Patient Diagnosis class: 1\n",
      "Probability is : [[1.]] Patient Diagnosis class: 1\n",
      "Probability is : [[0.99999976]] Patient Diagnosis class: 1\n",
      "Probability is : [[0.9989184]] Patient Diagnosis class: 1\n",
      "Probability is : [[0.00672865]] Patient Diagnosis class: 0\n",
      "Probability is : [[1.]] Patient Diagnosis class: 1\n",
      "Probability is : [[1.]] Patient Diagnosis class: 1\n",
      "Probability is : [[0.99994123]] Patient Diagnosis class: 1\n",
      "Probability is : [[0.9998611]] Patient Diagnosis class: 1\n",
      "Probability is : [[1.]] Patient Diagnosis class: 1\n",
      "Probability is : [[0.99994326]] Patient Diagnosis class: 1\n",
      "Probability is : [[0.9829616]] Patient Diagnosis class: 1\n",
      "Probability is : [[0.99581534]] Patient Diagnosis class: 1\n",
      "Probability is : [[0.9999981]] Patient Diagnosis class: 1\n",
      "Probability is : [[0.9999999]] Patient Diagnosis class: 1\n",
      "Probability is : [[1.]] Patient Diagnosis class: 1\n",
      "Probability is : [[0.9999999]] Patient Diagnosis class: 1\n",
      "Probability is : [[0.9998692]] Patient Diagnosis class: 1\n",
      "Probability is : [[1.]] Patient Diagnosis class: 1\n",
      "Probability is : [[0.9998592]] Patient Diagnosis class: 1\n",
      "Probability is : [[0.99999726]] Patient Diagnosis class: 1\n",
      "Probability is : [[1.]] Patient Diagnosis class: 1\n",
      "Probability is : [[1.]] Patient Diagnosis class: 1\n",
      "Probability is : [[1.]] Patient Diagnosis class: 1\n"
     ]
    },
    {
     "name": "stdout",
     "output_type": "stream",
     "text": [
      "Probability is : [[0.9999987]] Patient Diagnosis class: 1\n",
      "Probability is : [[0.9999231]] Patient Diagnosis class: 1\n",
      "Probability is : [[0.9999999]] Patient Diagnosis class: 1\n",
      "Probability is : [[0.9999939]] Patient Diagnosis class: 1\n",
      "Probability is : [[0.8956464]] Patient Diagnosis class: 1\n",
      "Probability is : [[0.9999877]] Patient Diagnosis class: 1\n",
      "Probability is : [[0.999998]] Patient Diagnosis class: 1\n",
      "Probability is : [[1.]] Patient Diagnosis class: 1\n",
      "Probability is : [[1.]] Patient Diagnosis class: 1\n",
      "Probability is : [[0.9999298]] Patient Diagnosis class: 1\n",
      "Probability is : [[0.9784158]] Patient Diagnosis class: 1\n",
      "Probability is : [[0.9999999]] Patient Diagnosis class: 1\n",
      "Probability is : [[0.99997354]] Patient Diagnosis class: 1\n",
      "Probability is : [[0.99999976]] Patient Diagnosis class: 1\n",
      "Probability is : [[0.99999845]] Patient Diagnosis class: 1\n",
      "Probability is : [[0.9967982]] Patient Diagnosis class: 1\n",
      "Probability is : [[0.99999166]] Patient Diagnosis class: 1\n",
      "Probability is : [[0.995917]] Patient Diagnosis class: 1\n",
      "Probability is : [[1.]] Patient Diagnosis class: 1\n",
      "Probability is : [[1.]] Patient Diagnosis class: 1\n",
      "Probability is : [[0.99999833]] Patient Diagnosis class: 1\n",
      "Probability is : [[0.9999995]] Patient Diagnosis class: 1\n",
      "Probability is : [[1.]] Patient Diagnosis class: 1\n",
      "Probability is : [[0.99995685]] Patient Diagnosis class: 1\n",
      "Probability is : [[0.99588877]] Patient Diagnosis class: 1\n",
      "Probability is : [[1.]] Patient Diagnosis class: 1\n",
      "Probability is : [[0.9900253]] Patient Diagnosis class: 1\n",
      "Probability is : [[0.99975353]] Patient Diagnosis class: 1\n",
      "Probability is : [[0.99992394]] Patient Diagnosis class: 1\n",
      "Probability is : [[1.]] Patient Diagnosis class: 1\n",
      "Probability is : [[0.9984383]] Patient Diagnosis class: 1\n",
      "Probability is : [[1.]] Patient Diagnosis class: 1\n",
      "Probability is : [[0.99999297]] Patient Diagnosis class: 1\n",
      "Probability is : [[0.99897987]] Patient Diagnosis class: 1\n",
      "Probability is : [[0.86033434]] Patient Diagnosis class: 1\n",
      "Probability is : [[0.9999931]] Patient Diagnosis class: 1\n",
      "Probability is : [[0.9999981]] Patient Diagnosis class: 1\n",
      "Probability is : [[1.]] Patient Diagnosis class: 1\n",
      "Probability is : [[0.9999958]] Patient Diagnosis class: 1\n",
      "Probability is : [[0.9999999]] Patient Diagnosis class: 1\n",
      "Probability is : [[0.98855734]] Patient Diagnosis class: 1\n",
      "Probability is : [[1.]] Patient Diagnosis class: 1\n",
      "Probability is : [[1.]] Patient Diagnosis class: 1\n",
      "Probability is : [[1.]] Patient Diagnosis class: 1\n",
      "Probability is : [[1.]] Patient Diagnosis class: 1\n",
      "Probability is : [[0.9991503]] Patient Diagnosis class: 1\n",
      "Probability is : [[1.]] Patient Diagnosis class: 1\n"
     ]
    }
   ],
   "source": [
    "for i in v:\n",
    "    test = input_data[i , :]\n",
    "    test = test.reshape(1, -1)\n",
    "    test = scale.transform(test)\n",
    "    prediciton_prob = model.predict(test)\n",
    "    result = 0 if prediciton_prob<0.5 else 1\n",
    "    print(\"Probability is : \"+str(prediciton_prob)+\" Patient Diagnosis class: \"+str(result))"
   ]
  },
  {
   "cell_type": "code",
   "execution_count": 81,
   "metadata": {},
   "outputs": [
    {
     "data": {
      "text/plain": [
       "3"
      ]
     },
     "execution_count": 81,
     "metadata": {},
     "output_type": "execute_result"
    }
   ],
   "source": [
    "l = [1, 2, 3, 4, 5]\n",
    "l.pop(2)"
   ]
  },
  {
   "cell_type": "code",
   "execution_count": 82,
   "metadata": {},
   "outputs": [
    {
     "data": {
      "text/plain": [
       "[1, 2, 4, 5]"
      ]
     },
     "execution_count": 82,
     "metadata": {},
     "output_type": "execute_result"
    }
   ],
   "source": [
    "l"
   ]
  },
  {
   "cell_type": "code",
   "execution_count": 84,
   "metadata": {},
   "outputs": [],
   "source": [
    "s = {1, 2, 3, 4}"
   ]
  },
  {
   "cell_type": "code",
   "execution_count": 90,
   "metadata": {},
   "outputs": [],
   "source": [
    "s.remove(1)"
   ]
  },
  {
   "cell_type": "code",
   "execution_count": 87,
   "metadata": {},
   "outputs": [],
   "source": [
    "s.discard(0)"
   ]
  },
  {
   "cell_type": "code",
   "execution_count": 88,
   "metadata": {},
   "outputs": [
    {
     "data": {
      "text/plain": [
       "{1, 2, 3, 4}"
      ]
     },
     "execution_count": 88,
     "metadata": {},
     "output_type": "execute_result"
    }
   ],
   "source": [
    "s"
   ]
  },
  {
   "cell_type": "code",
   "execution_count": 91,
   "metadata": {},
   "outputs": [
    {
     "data": {
      "text/plain": [
       "{2, 3, 4}"
      ]
     },
     "execution_count": 91,
     "metadata": {},
     "output_type": "execute_result"
    }
   ],
   "source": [
    "s"
   ]
  },
  {
   "cell_type": "code",
   "execution_count": 92,
   "metadata": {},
   "outputs": [
    {
     "data": {
      "text/plain": [
       "[1, 2, 4, 5]"
      ]
     },
     "execution_count": 92,
     "metadata": {},
     "output_type": "execute_result"
    }
   ],
   "source": [
    "l"
   ]
  },
  {
   "cell_type": "code",
   "execution_count": 97,
   "metadata": {},
   "outputs": [],
   "source": [
    "l.extend([[5]])"
   ]
  },
  {
   "cell_type": "code",
   "execution_count": 98,
   "metadata": {},
   "outputs": [
    {
     "data": {
      "text/plain": [
       "[1, 2, 4, 5, 5, [5]]"
      ]
     },
     "execution_count": 98,
     "metadata": {},
     "output_type": "execute_result"
    }
   ],
   "source": [
    "l"
   ]
  },
  {
   "cell_type": "code",
   "execution_count": null,
   "metadata": {},
   "outputs": [],
   "source": []
  }
 ],
 "metadata": {
  "kernelspec": {
   "display_name": "Python 3",
   "language": "python",
   "name": "python3"
  },
  "language_info": {
   "codemirror_mode": {
    "name": "ipython",
    "version": 3
   },
   "file_extension": ".py",
   "mimetype": "text/x-python",
   "name": "python",
   "nbconvert_exporter": "python",
   "pygments_lexer": "ipython3",
   "version": "3.7.4"
  }
 },
 "nbformat": 4,
 "nbformat_minor": 2
}
